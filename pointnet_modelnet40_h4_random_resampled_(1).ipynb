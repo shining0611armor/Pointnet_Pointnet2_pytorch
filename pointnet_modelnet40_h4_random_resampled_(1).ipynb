{
  "nbformat": 4,
  "nbformat_minor": 0,
  "metadata": {
    "colab": {
      "provenance": [],
      "gpuType": "T4"
    },
    "kernelspec": {
      "name": "python3",
      "display_name": "Python 3"
    },
    "language_info": {
      "name": "python"
    },
    "accelerator": "GPU"
  },
  "cells": [
    {
      "cell_type": "code",
      "execution_count": 1,
      "metadata": {
        "colab": {
          "base_uri": "https://localhost:8080/"
        },
        "id": "iUDTQ_S70PVQ",
        "outputId": "a545a283-20f8-4f13-cc49-d00f8b9e2e34"
      },
      "outputs": [
        {
          "output_type": "stream",
          "name": "stdout",
          "text": [
            "Cloning into 'Pointnet_Pointnet2_pytorch'...\n",
            "remote: Enumerating objects: 894, done.\u001b[K\n",
            "remote: Counting objects: 100% (52/52), done.\u001b[K\n",
            "remote: Compressing objects: 100% (52/52), done.\u001b[K\n",
            "remote: Total 894 (delta 27), reused 0 (delta 0), pack-reused 842 (from 1)\u001b[K\n",
            "Receiving objects: 100% (894/894), 68.82 MiB | 15.50 MiB/s, done.\n",
            "Resolving deltas: 100% (512/512), done.\n",
            "Updating files: 100% (60/60), done.\n"
          ]
        }
      ],
      "source": [
        "!git clone --branch pointnet_modelnet40_h5_random_resampled https://github.com/shining0611armor/Pointnet_Pointnet2_pytorch.git\n"
      ]
    },
    {
      "cell_type": "code",
      "source": [
        "cd Pointnet_Pointnet2_pytorch"
      ],
      "metadata": {
        "colab": {
          "base_uri": "https://localhost:8080/"
        },
        "id": "51RzP9Xaikvn",
        "outputId": "72abaf9a-f846-4ff3-e6a9-0fa0d8742e4a"
      },
      "execution_count": 2,
      "outputs": [
        {
          "output_type": "stream",
          "name": "stdout",
          "text": [
            "/content/Pointnet_Pointnet2_pytorch\n"
          ]
        }
      ]
    },
    {
      "cell_type": "code",
      "source": [
        "\n",
        "!gdown https://drive.google.com/uc?id=1XJee3HjsN-jO0UMOoKCT7Hxwg7W9W9MV\n",
        "!unzip modelnet40_normal_resampled_h5.zip\n"
      ],
      "metadata": {
        "colab": {
          "base_uri": "https://localhost:8080/"
        },
        "id": "poMus6M25ogs",
        "outputId": "6302d994-f1d8-425d-df5f-1bc614de5abc"
      },
      "execution_count": 3,
      "outputs": [
        {
          "output_type": "stream",
          "name": "stdout",
          "text": [
            "Downloading...\n",
            "From (original): https://drive.google.com/uc?id=1XJee3HjsN-jO0UMOoKCT7Hxwg7W9W9MV\n",
            "From (redirected): https://drive.google.com/uc?id=1XJee3HjsN-jO0UMOoKCT7Hxwg7W9W9MV&confirm=t&uuid=0b28cfbd-aadc-4071-b7b0-1e72d54f87a4\n",
            "To: /content/Pointnet_Pointnet2_pytorch/modelnet40_normal_resampled_h5.zip\n",
            "100% 108M/108M [00:03<00:00, 29.9MB/s]\n",
            "Archive:  modelnet40_normal_resampled_h5.zip\n",
            "  inflating: modelnet40_test.h5      \n",
            "  inflating: modelnet40_train.h5     \n"
          ]
        }
      ]
    },
    {
      "cell_type": "code",
      "source": [
        "ls"
      ],
      "metadata": {
        "colab": {
          "base_uri": "https://localhost:8080/"
        },
        "id": "Z43hVnY48U9E",
        "outputId": "b950bbda-ec0f-482d-d9c3-74511d64b63f"
      },
      "execution_count": 4,
      "outputs": [
        {
          "output_type": "stream",
          "name": "stdout",
          "text": [
            " \u001b[0m\u001b[01;34mdata_utils\u001b[0m/                                      README.md\n",
            " LICENSE                                          test_classification.py\n",
            " \u001b[01;34mlog\u001b[0m/                                             test_partseg.py\n",
            " modelnet40_normal_resampled_h5.zip               test_semseg.py\n",
            " modelnet40_test.h5                               train_classification.py\n",
            " modelnet40_train.h5                              train_partseg.py\n",
            " \u001b[01;34mmodels\u001b[0m/                                          train_semseg.py\n",
            "'pointnet_modelnet40_h4_random resampled.ipynb'   \u001b[01;34mvisualizer\u001b[0m/\n",
            " provider.py\n"
          ]
        }
      ]
    },
    {
      "cell_type": "code",
      "source": [
        "!python train_classification.py --model pointnet_cls --log_dir pointnet2_cls_ssg\n"
      ],
      "metadata": {
        "colab": {
          "base_uri": "https://localhost:8080/"
        },
        "id": "z4Vp3Ob-h6xu",
        "outputId": "a2446224-526f-4f91-8b41-5b0fdcc49264"
      },
      "execution_count": null,
      "outputs": [
        {
          "output_type": "stream",
          "name": "stdout",
          "text": [
            "PARAMETER ...\n",
            "Namespace(use_cpu=False, gpu='0', batch_size=24, model='pointnet_cls', num_category=40, epoch=200, learning_rate=0.001, num_point=1024, optimizer='Adam', log_dir='pointnet2_cls_ssg', decay_rate=0.0001, use_normals=False, process_data=False, use_uniform_sample=False, seed=13)\n",
            "Load dataset ...\n",
            "The size of train data is 9843\n",
            "The size of test data is 2468\n",
            "Unique train labels: [ 0  1  2  3  4  5  6  7  8  9 10 11 12 13 14 15 16 17 18 19 20 21 22 23\n",
            " 24 25 26 27 28 29 30 31 32 33 34 35 36 37 38 39]\n",
            "Unique test labels: [ 0  1  2  3  4  5  6  7  8  9 10 11 12 13 14 15 16 17 18 19 20 21 22 23\n",
            " 24 25 26 27 28 29 30 31 32 33 34 35 36 37 38 39]\n",
            "No existing model, starting training from scratch...\n",
            "Epoch 1 (1/200):\n",
            "100% 410/410 [00:19<00:00, 20.58it/s]\n",
            "Train Instance Accuracy: 0.386382\n",
            "100% 103/103 [00:01<00:00, 51.57it/s]\n",
            "Test Instance Accuracy: 0.440129, Class Accuracy: 0.308709\n",
            "Best Instance Accuracy: 0.440129, Class Accuracy: 0.308709\n",
            "Saving at log/classification/pointnet2_cls_ssg/checkpoints/best_model.pth\n",
            "Epoch 2 (2/200):\n",
            "100% 410/410 [00:17<00:00, 23.09it/s]\n",
            "Train Instance Accuracy: 0.521545\n",
            "100% 103/103 [00:01<00:00, 54.44it/s]\n",
            "Test Instance Accuracy: 0.572411, Class Accuracy: 0.410218\n",
            "Best Instance Accuracy: 0.572411, Class Accuracy: 0.410218\n",
            "Saving at log/classification/pointnet2_cls_ssg/checkpoints/best_model.pth\n",
            "Epoch 3 (3/200):\n",
            " 47% 194/410 [00:08<00:09, 23.41it/s]"
          ]
        }
      ]
    },
    {
      "cell_type": "code",
      "source": [
        "!python test_classification.py --log_dir pointnet2_cls_ssg\n"
      ],
      "metadata": {
        "colab": {
          "base_uri": "https://localhost:8080/"
        },
        "id": "ZJa7kXvHNx_u",
        "outputId": "e4a067b1-edce-4cef-cfd6-f6bd75191d2c"
      },
      "execution_count": null,
      "outputs": [
        {
          "output_type": "stream",
          "name": "stdout",
          "text": [
            "PARAMETER ...\n",
            "Namespace(use_cpu=False, gpu='0', batch_size=24, num_category=40, num_point=1024, log_dir='pointnet2_cls_ssg', use_normals=False, use_uniform_sample=False, num_votes=3)\n",
            "Load dataset ...\n",
            "The size of test data is 2468\n",
            "100% 103/103 [00:09<00:00, 11.35it/s]\n",
            "Test Instance Accuracy: 0.905502, Class Accuracy: 0.864386\n"
          ]
        }
      ]
    }
  ]
}